{
 "cells": [
  {
   "cell_type": "markdown",
   "id": "d3bfc191-8885-42ee-b0a0-bbab867c6f9f",
   "metadata": {
    "tags": []
   },
   "source": [
    "# Lab | Flow Control"
   ]
  },
  {
   "cell_type": "markdown",
   "id": "3851fcd1-cf98-4653-9c89-e003b7ec9400",
   "metadata": {},
   "source": [
    "## Exercise: Managing Customer Orders Optimized\n",
    "\n",
    "In the last lab, you were starting an online store that sells various products. To ensure smooth operations, you developed a program that manages customer orders and inventory.\n",
    "\n",
    "You did so without using flow control. Let's go a step further and improve this code.\n",
    "\n",
    "Follow the steps below to complete the exercise:\n",
    "\n",
    "1. Look at your code from the lab data structures, and improve repeated code with loops.\n",
    "\n",
    "2. Instead of asking the user to input the name of three products that a customer wants to order, do the following:\n",
    "    \n",
    "    a. Prompt the user to enter the name of a product that a customer wants to order.\n",
    "    \n",
    "    b. Add the product name to the \"customer_orders\" set.\n",
    "    \n",
    "    c. Ask the user if they want to add another product (yes/no).\n",
    "    \n",
    "    d. Continue the loop until the user does not want to add another product.\n",
    "\n",
    "3. Instead of updating the inventory by subtracting 1 from the quantity of each product, only do it for  the products that were ordered (those in \"customer_orders\")."
   ]
  },
  {
   "cell_type": "code",
   "execution_count": 13,
   "id": "2f49f508",
   "metadata": {},
   "outputs": [
    {
     "name": "stdout",
     "output_type": "stream",
     "text": [
      "que cantidad de camiseta hay disponible: 1\n",
      "que cantidad de taza hay disponible: 1\n",
      "que cantidad de sombrero hay disponible: 1\n",
      "que cantidad de libro hay disponible: 1\n",
      "que cantidad de llavero hay disponible: 1\n",
      "{'camiseta': 1, 'taza': 1, 'sombrero': 1, 'libro': 1, 'llavero': 1}\n",
      "Elige un producto: camiseta\n",
      "¿Otra cosa?\"si\" o \"no\"no\n",
      "{'camiseta'}\n",
      "{'camiseta': 0, 'taza': 1, 'sombrero': 1, 'libro': 1, 'llavero': 1}\n"
     ]
    }
   ],
   "source": [
    "#1.Look at your code from the lab data structures, and improve repeated code with loops.\n",
    "productos=[\"camiseta\", \"taza\", \"sombrero\", \"libro\", \"llavero\"]\n",
    "inventario={}\n",
    "for product in productos:\n",
    "    inventario[product] = int(input(\"que cantidad de \" + product + \" hay disponible: \"))\n",
    "\n",
    "print(inventario)\n",
    "\n",
    "customer_orders=set()\n",
    "\n",
    "for i in range(sum(inventario.values())):\n",
    "    pedido=input('Elige un producto: ')\n",
    "    if pedido in productos:\n",
    "        customer_orders.add(pedido)\n",
    "        inventario[pedido]-=1 \n",
    "    repe1=input('¿Otra cosa?\"si\" o \"no\"')\n",
    "    if repe1== 'no':\n",
    "            break     \n",
    "print(customer_orders)\n",
    "print(inventario)"
   ]
  },
  {
   "cell_type": "code",
   "execution_count": null,
   "id": "81963702",
   "metadata": {},
   "outputs": [],
   "source": []
  }
 ],
 "metadata": {
  "kernelspec": {
   "display_name": "Python 3 (ipykernel)",
   "language": "python",
   "name": "python3"
  },
  "language_info": {
   "codemirror_mode": {
    "name": "ipython",
    "version": 3
   },
   "file_extension": ".py",
   "mimetype": "text/x-python",
   "name": "python",
   "nbconvert_exporter": "python",
   "pygments_lexer": "ipython3",
   "version": "3.11.5"
  }
 },
 "nbformat": 4,
 "nbformat_minor": 5
}
